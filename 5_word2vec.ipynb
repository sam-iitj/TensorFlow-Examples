{
 "cells": [
  {
   "cell_type": "markdown",
   "metadata": {
    "colab_type": "text",
    "id": "D7tqLMoKF6uq"
   },
   "source": [
    "Deep Learning\n",
    "=============\n",
    "\n",
    "Assignment 5\n",
    "------------\n",
    "\n",
    "The goal of this assignment is to train a Word2Vec skip-gram model over [Text8](http://mattmahoney.net/dc/textdata) data."
   ]
  },
  {
   "cell_type": "code",
   "execution_count": 1,
   "metadata": {
    "cellView": "both",
    "colab": {
     "autoexec": {
      "startup": false,
      "wait_interval": 0
     }
    },
    "colab_type": "code",
    "collapsed": false,
    "id": "0K1ZyLn04QZf"
   },
   "outputs": [
    {
     "name": "stderr",
     "output_type": "stream",
     "text": [
      "/Users/satsaxen/anaconda/lib/python2.7/site-packages/pandas/computation/__init__.py:19: UserWarning: The installed version of numexpr 2.4.4 is not supported in pandas and will be not be used\n",
      "\n",
      "  UserWarning)\n"
     ]
    }
   ],
   "source": [
    "# These are all the modules we'll be using later. Make sure you can import them\n",
    "# before proceeding further.\n",
    "%matplotlib inline\n",
    "from __future__ import print_function\n",
    "import collections\n",
    "import math\n",
    "import numpy as np\n",
    "import os\n",
    "import random\n",
    "import tensorflow as tf\n",
    "import zipfile\n",
    "from matplotlib import pylab\n",
    "from six.moves import range\n",
    "from six.moves.urllib.request import urlretrieve\n",
    "from sklearn.manifold import TSNE"
   ]
  },
  {
   "cell_type": "markdown",
   "metadata": {
    "colab_type": "text",
    "id": "aCjPJE944bkV"
   },
   "source": [
    "Download the data from the source website if necessary."
   ]
  },
  {
   "cell_type": "code",
   "execution_count": 2,
   "metadata": {
    "cellView": "both",
    "colab": {
     "autoexec": {
      "startup": false,
      "wait_interval": 0
     },
     "output_extras": [
      {
       "item_id": 1
      }
     ]
    },
    "colab_type": "code",
    "collapsed": false,
    "executionInfo": {
     "elapsed": 14640,
     "status": "ok",
     "timestamp": 1445964482948,
     "user": {
      "color": "#1FA15D",
      "displayName": "Vincent Vanhoucke",
      "isAnonymous": false,
      "isMe": true,
      "permissionId": "05076109866853157986",
      "photoUrl": "//lh6.googleusercontent.com/-cCJa7dTDcgQ/AAAAAAAAAAI/AAAAAAAACgw/r2EZ_8oYer4/s50-c-k-no/photo.jpg",
      "sessionId": "2f1ffade4c9f20de",
      "userId": "102167687554210253930"
     },
     "user_tz": 420
    },
    "id": "RJ-o3UBUFtCw",
    "outputId": "c4ec222c-80b5-4298-e635-93ca9f79c3b7"
   },
   "outputs": [
    {
     "name": "stdout",
     "output_type": "stream",
     "text": [
      "Found and verified text8.zip\n"
     ]
    }
   ],
   "source": [
    "url = 'http://mattmahoney.net/dc/'\n",
    "\n",
    "def maybe_download(filename, expected_bytes):\n",
    "  \"\"\"Download a file if not present, and make sure it's the right size.\"\"\"\n",
    "  if not os.path.exists(filename):\n",
    "    filename, _ = urlretrieve(url + filename, filename)\n",
    "  statinfo = os.stat(filename)\n",
    "  if statinfo.st_size == expected_bytes:\n",
    "    print('Found and verified %s' % filename)\n",
    "  else:\n",
    "    print(statinfo.st_size)\n",
    "    raise Exception(\n",
    "      'Failed to verify ' + filename + '. Can you get to it with a browser?')\n",
    "  return filename\n",
    "\n",
    "filename = maybe_download('text8.zip', 31344016)"
   ]
  },
  {
   "cell_type": "markdown",
   "metadata": {
    "colab_type": "text",
    "id": "Zqz3XiqI4mZT"
   },
   "source": [
    "Read the data into a string."
   ]
  },
  {
   "cell_type": "code",
   "execution_count": 3,
   "metadata": {
    "cellView": "both",
    "colab": {
     "autoexec": {
      "startup": false,
      "wait_interval": 0
     },
     "output_extras": [
      {
       "item_id": 1
      }
     ]
    },
    "colab_type": "code",
    "collapsed": false,
    "executionInfo": {
     "elapsed": 28844,
     "status": "ok",
     "timestamp": 1445964497165,
     "user": {
      "color": "#1FA15D",
      "displayName": "Vincent Vanhoucke",
      "isAnonymous": false,
      "isMe": true,
      "permissionId": "05076109866853157986",
      "photoUrl": "//lh6.googleusercontent.com/-cCJa7dTDcgQ/AAAAAAAAAAI/AAAAAAAACgw/r2EZ_8oYer4/s50-c-k-no/photo.jpg",
      "sessionId": "2f1ffade4c9f20de",
      "userId": "102167687554210253930"
     },
     "user_tz": 420
    },
    "id": "Mvf09fjugFU_",
    "outputId": "e3a928b4-1645-4fe8-be17-fcf47de5716d"
   },
   "outputs": [
    {
     "name": "stdout",
     "output_type": "stream",
     "text": [
      "Data size 17005207\n"
     ]
    }
   ],
   "source": [
    "def read_data(filename):\n",
    "  \"\"\"Extract the first file enclosed in a zip file as a list of words\"\"\"\n",
    "  with zipfile.ZipFile(filename) as f:\n",
    "    data = tf.compat.as_str(f.read(f.namelist()[0])).split()\n",
    "  return data\n",
    "  \n",
    "words = read_data(filename)\n",
    "print('Data size %d' % len(words))"
   ]
  },
  {
   "cell_type": "markdown",
   "metadata": {
    "colab_type": "text",
    "id": "Zdw6i4F8glpp"
   },
   "source": [
    "Build the dictionary and replace rare words with UNK token."
   ]
  },
  {
   "cell_type": "code",
   "execution_count": 4,
   "metadata": {
    "cellView": "both",
    "colab": {
     "autoexec": {
      "startup": false,
      "wait_interval": 0
     },
     "output_extras": [
      {
       "item_id": 1
      }
     ]
    },
    "colab_type": "code",
    "collapsed": false,
    "executionInfo": {
     "elapsed": 28849,
     "status": "ok",
     "timestamp": 1445964497178,
     "user": {
      "color": "#1FA15D",
      "displayName": "Vincent Vanhoucke",
      "isAnonymous": false,
      "isMe": true,
      "permissionId": "05076109866853157986",
      "photoUrl": "//lh6.googleusercontent.com/-cCJa7dTDcgQ/AAAAAAAAAAI/AAAAAAAACgw/r2EZ_8oYer4/s50-c-k-no/photo.jpg",
      "sessionId": "2f1ffade4c9f20de",
      "userId": "102167687554210253930"
     },
     "user_tz": 420
    },
    "id": "gAL1EECXeZsD",
    "outputId": "3fb4ecd1-df67-44b6-a2dc-2291730970b2"
   },
   "outputs": [
    {
     "name": "stdout",
     "output_type": "stream",
     "text": [
      "Most common words (+UNK) [['UNK', 418391], ('the', 1061396), ('of', 593677), ('and', 416629), ('one', 411764)]\n",
      "Sample data [5239, 3084, 12, 6, 195, 2, 3137, 46, 59, 156]\n"
     ]
    }
   ],
   "source": [
    "vocabulary_size = 50000\n",
    "\n",
    "def build_dataset(words):\n",
    "  count = [['UNK', -1]]\n",
    "  count.extend(collections.Counter(words).most_common(vocabulary_size - 1))\n",
    "  dictionary = dict()\n",
    "  for word, _ in count:\n",
    "    dictionary[word] = len(dictionary)\n",
    "  data = list()\n",
    "  unk_count = 0\n",
    "  for word in words:\n",
    "    if word in dictionary:\n",
    "      index = dictionary[word]\n",
    "    else:\n",
    "      index = 0  # dictionary['UNK']\n",
    "      unk_count = unk_count + 1\n",
    "    data.append(index)\n",
    "  count[0][1] = unk_count\n",
    "  reverse_dictionary = dict(zip(dictionary.values(), dictionary.keys())) \n",
    "  return data, count, dictionary, reverse_dictionary\n",
    "\n",
    "data, count, dictionary, reverse_dictionary = build_dataset(words)\n",
    "print('Most common words (+UNK)', count[:5])\n",
    "print('Sample data', data[:10])\n",
    "del words  # Hint to reduce memory."
   ]
  },
  {
   "cell_type": "markdown",
   "metadata": {
    "colab_type": "text",
    "id": "lFwoyygOmWsL"
   },
   "source": [
    "Function to generate a training batch for the skip-gram model."
   ]
  },
  {
   "cell_type": "code",
   "execution_count": 5,
   "metadata": {
    "cellView": "both",
    "colab": {
     "autoexec": {
      "startup": false,
      "wait_interval": 0
     },
     "output_extras": [
      {
       "item_id": 1
      }
     ]
    },
    "colab_type": "code",
    "collapsed": false,
    "executionInfo": {
     "elapsed": 113,
     "status": "ok",
     "timestamp": 1445964901989,
     "user": {
      "color": "#1FA15D",
      "displayName": "Vincent Vanhoucke",
      "isAnonymous": false,
      "isMe": true,
      "permissionId": "05076109866853157986",
      "photoUrl": "//lh6.googleusercontent.com/-cCJa7dTDcgQ/AAAAAAAAAAI/AAAAAAAACgw/r2EZ_8oYer4/s50-c-k-no/photo.jpg",
      "sessionId": "2f1ffade4c9f20de",
      "userId": "102167687554210253930"
     },
     "user_tz": 420
    },
    "id": "w9APjA-zmfjV",
    "outputId": "67cccb02-cdaf-4e47-d489-43bcc8d57bb8"
   },
   "outputs": [
    {
     "name": "stdout",
     "output_type": "stream",
     "text": [
      "data: ['anarchism', 'originated', 'as', 'a', 'term', 'of', 'abuse', 'first']\n",
      "\n",
      "with num_skips = 2 and skip_window = 1:\n",
      "    batch: ['originated', 'originated', 'as', 'as', 'a', 'a', 'term', 'term']\n",
      "    labels: ['anarchism', 'as', 'a', 'originated', 'as', 'term', 'of', 'a']\n",
      "\n",
      "with num_skips = 4 and skip_window = 2:\n",
      "    batch: ['as', 'as', 'as', 'as', 'a', 'a', 'a', 'a']\n",
      "    labels: ['a', 'term', 'originated', 'anarchism', 'as', 'originated', 'term', 'of']\n"
     ]
    }
   ],
   "source": [
    "data_index = 0\n",
    "\n",
    "def generate_batch(batch_size, num_skips, skip_window):\n",
    "  global data_index\n",
    "  assert batch_size % num_skips == 0\n",
    "  assert num_skips <= 2 * skip_window\n",
    "  batch = np.ndarray(shape=(batch_size), dtype=np.int32)\n",
    "  labels = np.ndarray(shape=(batch_size, 1), dtype=np.int32)\n",
    "  span = 2 * skip_window + 1 # [ skip_window target skip_window ]\n",
    "  buffer = collections.deque(maxlen=span)\n",
    "  for _ in range(span):\n",
    "    buffer.append(data[data_index])\n",
    "    data_index = (data_index + 1) % len(data)\n",
    "  for i in range(batch_size // num_skips):\n",
    "    target = skip_window  # target label at the center of the buffer\n",
    "    targets_to_avoid = [ skip_window ]\n",
    "    for j in range(num_skips):\n",
    "      while target in targets_to_avoid:\n",
    "        target = random.randint(0, span - 1)\n",
    "      targets_to_avoid.append(target)\n",
    "      batch[i * num_skips + j] = buffer[skip_window]\n",
    "      labels[i * num_skips + j, 0] = buffer[target]\n",
    "    buffer.append(data[data_index])\n",
    "    data_index = (data_index + 1) % len(data)\n",
    "  return batch, labels\n",
    "\n",
    "print('data:', [reverse_dictionary[di] for di in data[:8]])\n",
    "\n",
    "for num_skips, skip_window in [(2, 1), (4, 2)]:\n",
    "    data_index = 0\n",
    "    batch, labels = generate_batch(batch_size=8, num_skips=num_skips, skip_window=skip_window)\n",
    "    print('\\nwith num_skips = %d and skip_window = %d:' % (num_skips, skip_window))\n",
    "    print('    batch:', [reverse_dictionary[bi] for bi in batch])\n",
    "    print('    labels:', [reverse_dictionary[li] for li in labels.reshape(8)])"
   ]
  },
  {
   "cell_type": "markdown",
   "metadata": {
    "colab_type": "text",
    "id": "Ofd1MbBuwiva"
   },
   "source": [
    "Train a skip-gram model."
   ]
  },
  {
   "cell_type": "code",
   "execution_count": 6,
   "metadata": {
    "cellView": "both",
    "colab": {
     "autoexec": {
      "startup": false,
      "wait_interval": 0
     }
    },
    "colab_type": "code",
    "collapsed": true,
    "id": "8pQKsV4Vwlzy"
   },
   "outputs": [],
   "source": [
    "batch_size = 128\n",
    "embedding_size = 128 # Dimension of the embedding vector.\n",
    "skip_window = 1 # How many words to consider left and right.\n",
    "num_skips = 2 # How many times to reuse an input to generate a label.\n",
    "# We pick a random validation set to sample nearest neighbors. here we limit the\n",
    "# validation samples to the words that have a low numeric ID, which by\n",
    "# construction are also the most frequent. \n",
    "valid_size = 16 # Random set of words to evaluate similarity on.\n",
    "valid_window = 100 # Only pick dev samples in the head of the distribution.\n",
    "valid_examples = np.array(random.sample(range(valid_window), valid_size))\n",
    "num_sampled = 64 # Number of negative examples to sample.\n",
    "\n",
    "graph = tf.Graph()\n",
    "\n",
    "with graph.as_default(), tf.device('/cpu:0'):\n",
    "\n",
    "  # Input data.\n",
    "  train_dataset = tf.placeholder(tf.int32, shape=[batch_size])\n",
    "  train_labels = tf.placeholder(tf.int32, shape=[batch_size, 1])\n",
    "  valid_dataset = tf.constant(valid_examples, dtype=tf.int32)\n",
    "  \n",
    "  # Variables.\n",
    "  embeddings = tf.Variable(\n",
    "    tf.random_uniform([vocabulary_size, embedding_size], -1.0, 1.0))\n",
    "  softmax_weights = tf.Variable(\n",
    "    tf.truncated_normal([vocabulary_size, embedding_size],\n",
    "                         stddev=1.0 / math.sqrt(embedding_size)))\n",
    "  softmax_biases = tf.Variable(tf.zeros([vocabulary_size]))\n",
    "  \n",
    "  # Model.\n",
    "  # Look up embeddings for inputs.\n",
    "  embed = tf.nn.embedding_lookup(embeddings, train_dataset)\n",
    "  # Compute the softmax loss, using a sample of the negative labels each time.\n",
    "  loss = tf.reduce_mean(\n",
    "    tf.nn.sampled_softmax_loss(softmax_weights, softmax_biases, embed,\n",
    "                               train_labels, num_sampled, vocabulary_size))\n",
    "\n",
    "  # Optimizer.\n",
    "  # Note: The optimizer will optimize the softmax_weights AND the embeddings.\n",
    "  # This is because the embeddings are defined as a variable quantity and the\n",
    "  # optimizer's `minimize` method will by default modify all variable quantities \n",
    "  # that contribute to the tensor it is passed.\n",
    "  # See docs on `tf.train.Optimizer.minimize()` for more details.\n",
    "  optimizer = tf.train.AdagradOptimizer(1.0).minimize(loss)\n",
    "  \n",
    "  # Compute the similarity between minibatch examples and all embeddings.\n",
    "  # We use the cosine distance:\n",
    "  norm = tf.sqrt(tf.reduce_sum(tf.square(embeddings), 1, keep_dims=True))\n",
    "  normalized_embeddings = embeddings / norm\n",
    "  valid_embeddings = tf.nn.embedding_lookup(\n",
    "    normalized_embeddings, valid_dataset)\n",
    "  similarity = tf.matmul(valid_embeddings, tf.transpose(normalized_embeddings))"
   ]
  },
  {
   "cell_type": "code",
   "execution_count": 7,
   "metadata": {
    "cellView": "both",
    "colab": {
     "autoexec": {
      "startup": false,
      "wait_interval": 0
     },
     "output_extras": [
      {
       "item_id": 23
      },
      {
       "item_id": 48
      },
      {
       "item_id": 61
      }
     ]
    },
    "colab_type": "code",
    "collapsed": false,
    "executionInfo": {
     "elapsed": 436189,
     "status": "ok",
     "timestamp": 1445965429787,
     "user": {
      "color": "#1FA15D",
      "displayName": "Vincent Vanhoucke",
      "isAnonymous": false,
      "isMe": true,
      "permissionId": "05076109866853157986",
      "photoUrl": "//lh6.googleusercontent.com/-cCJa7dTDcgQ/AAAAAAAAAAI/AAAAAAAACgw/r2EZ_8oYer4/s50-c-k-no/photo.jpg",
      "sessionId": "2f1ffade4c9f20de",
      "userId": "102167687554210253930"
     },
     "user_tz": 420
    },
    "id": "1bQFGceBxrWW",
    "outputId": "5ebd6d9a-33c6-4bcd-bf6d-252b0b6055e4"
   },
   "outputs": [
    {
     "name": "stdout",
     "output_type": "stream",
     "text": [
      "Initialized\n",
      "Average loss at step 0: 8.105270\n",
      "Nearest to seven: handled, pius, assuring, priestly, registered, academics, mini, ordinations,\n",
      "Nearest to people: mamoru, walks, travelogue, ankle, choctaws, stepped, specialise, devise,\n",
      "Nearest to by: nyi, thoroughbred, rescinded, jocular, scandal, seifert, iau, certainly,\n",
      "Nearest to some: incorporation, perception, politburo, pasolini, frantic, snowfall, disestablishment, denominator,\n",
      "Nearest to five: petropavlovsk, proconsular, extant, expenditure, folie, transoxiana, learns, novorossiysk,\n",
      "Nearest to often: namco, adagio, loveland, junit, algemeen, cartwright, gentle, tempest,\n",
      "Nearest to which: quipped, lengthen, sco, neuropsychological, uga, topless, guises, lady,\n",
      "Nearest to known: stratum, faintly, portion, suspicion, yangtze, caliber, rust, daytime,\n",
      "Nearest to be: warrants, nikki, pashtuns, tutsis, zelazny, calculi, chs, disciples,\n",
      "Nearest to when: arises, eduardo, thant, maliki, prosthetic, internalized, clover, stalemate,\n",
      "Nearest to i: practiced, interpersonal, suggestive, cet, civilian, octahedron, diatoms, ivory,\n",
      "Nearest to to: territory, indians, signified, massing, destitute, summarised, benzyl, enhancement,\n",
      "Nearest to only: tremolo, pcc, safavids, bogged, profit, polytechnic, heal, millard,\n",
      "Nearest to were: machining, bowels, enlists, jts, negotiators, hearth, cereal, halts,\n",
      "Nearest to s: atv, slight, beauties, basilides, sto, risorgimento, hilbert, irrespective,\n",
      "Nearest to into: spp, cham, majority, assimilated, poincar, tributaries, paratroopers, mans,\n",
      "Average loss at step 2000: 4.360089\n",
      "Average loss at step 4000: 3.853576\n",
      "Average loss at step 6000: 3.786346\n",
      "Average loss at step 8000: 3.685618\n",
      "Average loss at step 10000: 3.611481\n",
      "Nearest to seven: five, eight, six, four, nine, three, zero, two,\n",
      "Nearest to people: stepped, armature, saucer, siouxsie, reform, delft, aster, vogt,\n",
      "Nearest to by: was, seifert, from, battlecruisers, on, at, sophia, hypnotized,\n",
      "Nearest to some: many, abruptly, retired, chasm, incorporation, denominator, multipoint, reload,\n",
      "Nearest to five: six, seven, eight, three, zero, four, nine, two,\n",
      "Nearest to often: irda, who, loveland, adagio, genomes, congress, cartwright, namco,\n",
      "Nearest to which: this, that, also, it, who, stirrups, able, lingo,\n",
      "Nearest to known: stratum, sensing, edited, faintly, loner, kimi, guidebook, cheated,\n",
      "Nearest to be: have, is, was, pashtuns, were, generations, make, are,\n",
      "Nearest to when: thant, arises, tracing, dedicate, without, pancakes, soriano, contemporary,\n",
      "Nearest to i: practiced, we, curving, sleepers, rommel, survived, hyperthyroidism, interpersonal,\n",
      "Nearest to to: lu, oxley, would, not, throat, hohenzollern, kipsigis, medusa,\n",
      "Nearest to only: treblinka, tremolo, specifies, compasses, bogged, rolled, overline, drafted,\n",
      "Nearest to were: are, was, fetching, thickness, is, machining, hira, be,\n",
      "Nearest to s: his, and, feathers, omens, mooring, burgess, bloated, livin,\n",
      "Nearest to into: instructional, mans, caused, in, spp, through, fraser, paratroopers,\n",
      "Average loss at step 12000: 3.604464\n",
      "Average loss at step 14000: 3.570108\n",
      "Average loss at step 16000: 3.415641\n",
      "Average loss at step 18000: 3.455468\n",
      "Average loss at step 20000: 3.532802\n",
      "Nearest to seven: eight, six, five, nine, four, three, zero, two,\n",
      "Nearest to people: armature, jews, saucer, stepped, magi, alternation, delft, unter,\n",
      "Nearest to by: into, be, were, through, under, from, with, was,\n",
      "Nearest to some: many, these, abruptly, several, all, incorporation, kreutzmann, chasm,\n",
      "Nearest to five: seven, four, six, three, eight, zero, two, nine,\n",
      "Nearest to often: who, which, also, commonly, irda, adagio, actually, concluding,\n",
      "Nearest to which: who, that, this, also, it, but, there, often,\n",
      "Nearest to known: such, used, sensing, kimi, available, regarded, edited, seen,\n",
      "Nearest to be: have, were, been, was, refer, by, make, pashtuns,\n",
      "Nearest to when: if, before, for, after, without, arises, tracing, soriano,\n",
      "Nearest to i: we, ii, curving, sleepers, pledges, wikitravel, confederal, grapevines,\n",
      "Nearest to to: would, may, will, throat, not, hohenzollern, cannot, lu,\n",
      "Nearest to only: offsets, kept, annex, drafted, overline, statuary, disoriented, universally,\n",
      "Nearest to were: are, was, had, be, have, is, adic, been,\n",
      "Nearest to s: niigata, delivering, enlarge, semi, actuated, experimenter, lorenzo, mooring,\n",
      "Nearest to into: through, from, by, instructional, at, deviating, under, supersede,\n",
      "Average loss at step 22000: 3.502374\n",
      "Average loss at step 24000: 3.494558\n",
      "Average loss at step 26000: 3.481605\n",
      "Average loss at step 28000: 3.478576\n",
      "Average loss at step 30000: 3.496094\n",
      "Nearest to seven: eight, four, nine, six, five, three, zero, two,\n",
      "Nearest to people: jews, stepped, delft, countries, warrant, saucer, johansson, boxers,\n",
      "Nearest to by: under, loneliness, substantial, as, was, from, with, battlecruisers,\n",
      "Nearest to some: many, these, several, all, most, various, abruptly, any,\n",
      "Nearest to five: four, eight, seven, six, three, zero, nine, two,\n",
      "Nearest to often: sometimes, commonly, generally, also, who, now, usually, actually,\n",
      "Nearest to which: this, that, nationalized, it, who, also, but, usually,\n",
      "Nearest to known: used, such, well, regarded, described, available, sensing, defined,\n",
      "Nearest to be: have, been, is, refer, lead, were, was, are,\n",
      "Nearest to when: if, where, after, before, was, for, while, without,\n",
      "Nearest to i: we, ii, curving, sleepers, pledges, confederal, g, you,\n",
      "Nearest to to: would, can, will, kipsigis, could, must, cannot, may,\n",
      "Nearest to only: universally, annex, disoriented, ailuropoda, sciences, ullmann, exist, statuary,\n",
      "Nearest to were: are, was, have, had, be, been, is, zamenhof,\n",
      "Nearest to s: acs, his, parkes, omens, ha, favorites, partita, delivering,\n",
      "Nearest to into: from, through, under, vindication, compromised, during, uninterrupted, drawback,\n",
      "Average loss at step 32000: 3.500659\n",
      "Average loss at step 34000: 3.495102\n",
      "Average loss at step 36000: 3.456395\n",
      "Average loss at step 38000: 3.300095\n",
      "Average loss at step 40000: 3.431609\n",
      "Nearest to seven: six, five, eight, four, nine, three, zero, two,\n",
      "Nearest to people: jews, johansson, stepped, sources, those, lesion, delft, abstention,\n",
      "Nearest to by: loneliness, with, seifert, sleepers, battlecruisers, pebbles, be, for,\n",
      "Nearest to some: many, these, several, any, their, berenson, most, bawerk,\n",
      "Nearest to five: six, seven, four, three, eight, zero, two, nine,\n",
      "Nearest to often: usually, commonly, sometimes, generally, also, typically, who, actually,\n",
      "Nearest to which: that, this, usually, who, also, what, there, these,\n",
      "Nearest to known: used, such, defined, available, regarded, described, well, sensing,\n",
      "Nearest to be: have, been, being, refer, is, are, was, were,\n",
      "Nearest to when: if, while, before, where, after, for, until, however,\n",
      "Nearest to i: ii, we, you, he, sleepers, pledges, g, t,\n",
      "Nearest to to: must, can, erd, throat, not, for, lu, will,\n",
      "Nearest to only: nothing, first, not, universally, hst, minimally, no, ullmann,\n",
      "Nearest to were: are, have, was, had, be, being, dulcimer, these,\n",
      "Nearest to s: his, acs, parkes, partita, glibc, favorites, deteriorating, delivering,\n",
      "Nearest to into: through, from, compromised, vindication, over, under, keynote, during,\n",
      "Average loss at step 42000: 3.436562\n",
      "Average loss at step 44000: 3.452031\n",
      "Average loss at step 46000: 3.450752\n",
      "Average loss at step 48000: 3.353853\n",
      "Average loss at step 50000: 3.379504\n",
      "Nearest to seven: six, eight, nine, five, three, four, zero, one,\n",
      "Nearest to people: jews, children, men, warrant, inanimate, cultures, peshawar, johansson,\n",
      "Nearest to by: under, through, dina, was, unidad, sleepers, seifert, with,\n",
      "Nearest to some: many, these, several, various, most, the, any, both,\n",
      "Nearest to five: six, four, eight, seven, zero, three, nine, two,\n",
      "Nearest to often: usually, sometimes, generally, commonly, typically, now, actually, also,\n",
      "Nearest to which: that, this, who, often, what, also, pompey, usually,\n",
      "Nearest to known: used, such, defined, available, regarded, described, seen, sensing,\n",
      "Nearest to be: been, have, being, were, refer, was, become, lead,\n",
      "Nearest to when: if, while, after, before, until, where, however, but,\n",
      "Nearest to i: we, ii, you, g, mustelids, t, they, he,\n",
      "Nearest to to: would, kipsigis, lu, martyred, oxley, comically, must, destitute,\n",
      "Nearest to only: universally, hst, nothing, usually, no, compassion, around, generally,\n",
      "Nearest to were: are, was, have, be, had, been, being, include,\n",
      "Nearest to s: and, parkes, glibc, fork, favorites, mackenzie, whose, goldberg,\n",
      "Nearest to into: through, from, vindication, injecting, over, under, compromised, virtuosic,\n",
      "Average loss at step 52000: 3.434108\n",
      "Average loss at step 54000: 3.427533\n",
      "Average loss at step 56000: 3.441413\n",
      "Average loss at step 58000: 3.395241\n",
      "Average loss at step 60000: 3.392709\n",
      "Nearest to seven: eight, six, four, nine, five, three, zero, one,\n",
      "Nearest to people: men, jews, cultures, johansson, children, those, warrant, members,\n",
      "Nearest to by: under, with, through, without, sleepers, seifert, jamahiriya, dina,\n",
      "Nearest to some: many, several, these, most, various, any, all, this,\n",
      "Nearest to five: six, four, three, eight, seven, nine, zero, two,\n",
      "Nearest to often: sometimes, usually, commonly, generally, now, also, actually, typically,\n",
      "Nearest to which: that, this, what, however, it, who, nationalized, there,\n",
      "Nearest to known: used, defined, such, regarded, available, described, seen, well,\n",
      "Nearest to be: been, is, refer, was, respond, become, lead, deferred,\n",
      "Nearest to when: if, before, after, although, while, where, because, until,\n",
      "Nearest to i: we, ii, you, they, g, cbc, sleepers, accompaniments,\n",
      "Nearest to to: destitute, not, would, will, erd, hallelujah, cannot, kipsigis,\n",
      "Nearest to only: recycling, first, universally, hst, usually, compassion, paragraph, also,\n",
      "Nearest to were: are, was, have, had, those, be, while, including,\n",
      "Nearest to s: acs, tanzanian, paglia, omens, outfit, whose, although, parkes,\n",
      "Nearest to into: through, from, over, under, within, injecting, vindication, virtuosic,\n",
      "Average loss at step 62000: 3.239718\n",
      "Average loss at step 64000: 3.255762\n",
      "Average loss at step 66000: 3.401838\n",
      "Average loss at step 68000: 3.390325\n",
      "Average loss at step 70000: 3.358858\n",
      "Nearest to seven: eight, four, six, nine, five, three, zero, two,\n",
      "Nearest to people: men, children, cultures, jews, members, women, those, countries,\n",
      "Nearest to by: using, through, unidad, without, factorizations, seifert, under, be,\n",
      "Nearest to some: many, several, these, various, all, any, most, their,\n",
      "Nearest to five: six, four, seven, three, eight, zero, nine, two,\n",
      "Nearest to often: sometimes, usually, commonly, generally, now, typically, also, actually,\n",
      "Nearest to which: that, this, but, also, what, usually, often, who,\n",
      "Nearest to known: used, defined, regarded, such, seen, available, described, well,\n",
      "Nearest to be: been, were, become, is, being, was, have, refer,\n",
      "Nearest to when: if, before, where, because, while, after, halter, although,\n",
      "Nearest to i: we, ii, you, g, cbc, he, they, mail,\n",
      "Nearest to to: would, can, must, against, will, quranic, boundless, could,\n",
      "Nearest to only: universally, last, postcode, still, nothing, unknown, not, first,\n",
      "Nearest to were: are, have, was, be, had, been, those, forearm,\n",
      "Nearest to s: whose, must, coriolis, primitives, my, niigata, hannah, your,\n",
      "Nearest to into: through, from, under, within, vindication, injecting, via, pox,\n",
      "Average loss at step 72000: 3.372256\n",
      "Average loss at step 74000: 3.346147\n",
      "Average loss at step 76000: 3.317276\n",
      "Average loss at step 78000: 3.344554\n",
      "Average loss at step 80000: 3.373739\n",
      "Nearest to seven: six, five, eight, four, nine, three, zero, one,\n",
      "Nearest to people: men, cultures, children, women, members, those, jews, johansson,\n",
      "Nearest to by: under, using, from, przewodnicz, loneliness, seifert, through, and,\n",
      "Nearest to some: many, several, these, various, most, certain, maturity, all,\n",
      "Nearest to five: six, seven, four, eight, three, nine, zero, two,\n",
      "Nearest to often: sometimes, usually, commonly, generally, typically, now, actually, also,\n",
      "Nearest to which: that, this, also, usually, often, what, typically, pompey,\n",
      "Nearest to known: used, defined, regarded, described, seen, available, such, called,\n",
      "Nearest to be: been, being, have, become, refer, were, lead, respond,\n",
      "Nearest to when: if, before, after, though, during, although, where, until,\n",
      "Nearest to i: we, ii, you, cbc, g, t, iv, v,\n",
      "Nearest to to: destitute, will, would, quranic, landlord, comically, sinti, transformer,\n",
      "Nearest to only: universally, last, still, first, handicap, either, mario, usually,\n",
      "Nearest to were: are, was, had, have, those, been, irritable, be,\n",
      "Nearest to s: parkes, electrophysiology, mooring, trujillo, actuated, omens, grinder, indignant,\n",
      "Nearest to into: through, from, within, under, vindication, via, pox, injecting,\n",
      "Average loss at step 82000: 3.409522\n",
      "Average loss at step 84000: 3.408862\n",
      "Average loss at step 86000: 3.391358\n",
      "Average loss at step 88000: 3.351970\n",
      "Average loss at step 90000: 3.365303\n",
      "Nearest to seven: eight, six, five, nine, four, three, one, zero,\n",
      "Nearest to people: children, men, women, members, jews, those, cultures, man,\n",
      "Nearest to by: under, through, using, without, with, seifert, sleepers, inefficiencies,\n",
      "Nearest to some: many, several, these, any, all, certain, various, most,\n",
      "Nearest to five: eight, seven, four, six, three, nine, two, zero,\n",
      "Nearest to often: sometimes, usually, commonly, generally, also, typically, actually, frequently,\n",
      "Nearest to which: that, this, also, often, usually, what, who, typically,\n",
      "Nearest to known: used, such, defined, regarded, described, seen, available, called,\n",
      "Nearest to be: been, have, become, being, was, lead, refer, is,\n",
      "Nearest to when: if, before, while, after, where, although, though, during,\n",
      "Nearest to i: we, you, ii, g, t, k, v, intellivision,\n",
      "Nearest to to: erd, hallelujah, must, oxley, will, would, comically, towards,\n",
      "Nearest to only: universally, just, handicap, no, either, every, last, usually,\n",
      "Nearest to were: are, was, had, have, although, while, those, plugged,\n",
      "Nearest to s: parkes, his, whose, trujillo, hakim, svg, indignant, grinder,\n",
      "Nearest to into: through, from, under, within, around, via, injecting, kal,\n",
      "Average loss at step 92000: 3.399654\n",
      "Average loss at step 94000: 3.251791\n",
      "Average loss at step 96000: 3.358754\n",
      "Average loss at step 98000: 3.238923\n",
      "Average loss at step 100000: 3.355588\n",
      "Nearest to seven: eight, six, four, five, nine, three, two, zero,\n",
      "Nearest to people: children, men, jews, women, players, citizens, those, cultures,\n",
      "Nearest to by: seifert, through, without, using, when, unidad, dina, under,\n",
      "Nearest to some: many, several, these, any, all, various, certain, the,\n",
      "Nearest to five: four, seven, six, eight, three, two, zero, nine,\n",
      "Nearest to often: sometimes, usually, generally, commonly, typically, actually, frequently, now,\n",
      "Nearest to which: that, this, usually, what, often, typically, these, but,\n",
      "Nearest to known: defined, used, such, regarded, described, seen, available, possible,\n",
      "Nearest to be: been, have, become, being, refer, respond, is, are,\n",
      "Nearest to when: if, while, before, after, although, where, though, because,\n",
      "Nearest to i: we, you, ii, g, cbc, v, they, t,\n",
      "Nearest to to: will, can, must, could, cannot, hallelujah, would, may,\n",
      "Nearest to only: still, universally, just, roughly, not, below, every, either,\n",
      "Nearest to were: are, have, was, although, these, those, including, had,\n",
      "Nearest to s: his, trujillo, whose, my, gaborone, staring, deteriorating, neapolitan,\n",
      "Nearest to into: through, from, within, under, injecting, across, via, around,\n"
     ]
    }
   ],
   "source": [
    "num_steps = 100001\n",
    "\n",
    "with tf.Session(graph=graph) as session:\n",
    "  tf.initialize_all_variables().run()\n",
    "  print('Initialized')\n",
    "  average_loss = 0\n",
    "  for step in range(num_steps):\n",
    "    batch_data, batch_labels = generate_batch(\n",
    "      batch_size, num_skips, skip_window)\n",
    "    feed_dict = {train_dataset : batch_data, train_labels : batch_labels}\n",
    "    _, l = session.run([optimizer, loss], feed_dict=feed_dict)\n",
    "    average_loss += l\n",
    "    if step % 2000 == 0:\n",
    "      if step > 0:\n",
    "        average_loss = average_loss / 2000\n",
    "      # The average loss is an estimate of the loss over the last 2000 batches.\n",
    "      print('Average loss at step %d: %f' % (step, average_loss))\n",
    "      average_loss = 0\n",
    "    # note that this is expensive (~20% slowdown if computed every 500 steps)\n",
    "    if step % 10000 == 0:\n",
    "      sim = similarity.eval()\n",
    "      for i in range(valid_size):\n",
    "        valid_word = reverse_dictionary[valid_examples[i]]\n",
    "        top_k = 8 # number of nearest neighbors\n",
    "        nearest = (-sim[i, :]).argsort()[1:top_k+1]\n",
    "        log = 'Nearest to %s:' % valid_word\n",
    "        for k in range(top_k):\n",
    "          close_word = reverse_dictionary[nearest[k]]\n",
    "          log = '%s %s,' % (log, close_word)\n",
    "        print(log)\n",
    "  final_embeddings = normalized_embeddings.eval()"
   ]
  },
  {
   "cell_type": "code",
   "execution_count": 8,
   "metadata": {
    "cellView": "both",
    "colab": {
     "autoexec": {
      "startup": false,
      "wait_interval": 0
     }
    },
    "colab_type": "code",
    "collapsed": false,
    "id": "jjJXYA_XzV79"
   },
   "outputs": [
    {
     "ename": "ValueError",
     "evalue": "array must not contain infs or NaNs",
     "output_type": "error",
     "traceback": [
      "\u001b[0;31m---------------------------------------------------------------------------\u001b[0m",
      "\u001b[0;31mValueError\u001b[0m                                Traceback (most recent call last)",
      "\u001b[0;32m<ipython-input-8-f70c03698d67>\u001b[0m in \u001b[0;36m<module>\u001b[0;34m()\u001b[0m\n\u001b[1;32m      2\u001b[0m \u001b[0;34m\u001b[0m\u001b[0m\n\u001b[1;32m      3\u001b[0m \u001b[0mtsne\u001b[0m \u001b[0;34m=\u001b[0m \u001b[0mTSNE\u001b[0m\u001b[0;34m(\u001b[0m\u001b[0mperplexity\u001b[0m\u001b[0;34m=\u001b[0m\u001b[0;36m30\u001b[0m\u001b[0;34m,\u001b[0m \u001b[0mn_components\u001b[0m\u001b[0;34m=\u001b[0m\u001b[0;36m2\u001b[0m\u001b[0;34m,\u001b[0m \u001b[0minit\u001b[0m\u001b[0;34m=\u001b[0m\u001b[0;34m'pca'\u001b[0m\u001b[0;34m,\u001b[0m \u001b[0mn_iter\u001b[0m\u001b[0;34m=\u001b[0m\u001b[0;36m5000\u001b[0m\u001b[0;34m)\u001b[0m\u001b[0;34m\u001b[0m\u001b[0m\n\u001b[0;32m----> 4\u001b[0;31m \u001b[0mtwo_d_embeddings\u001b[0m \u001b[0;34m=\u001b[0m \u001b[0mtsne\u001b[0m\u001b[0;34m.\u001b[0m\u001b[0mfit_transform\u001b[0m\u001b[0;34m(\u001b[0m\u001b[0mfinal_embeddings\u001b[0m\u001b[0;34m[\u001b[0m\u001b[0;36m1\u001b[0m\u001b[0;34m:\u001b[0m\u001b[0mnum_points\u001b[0m\u001b[0;34m+\u001b[0m\u001b[0;36m1\u001b[0m\u001b[0;34m,\u001b[0m \u001b[0;34m:\u001b[0m\u001b[0;34m]\u001b[0m\u001b[0;34m)\u001b[0m\u001b[0;34m\u001b[0m\u001b[0m\n\u001b[0m",
      "\u001b[0;32m/Users/satsaxen/anaconda/lib/python2.7/site-packages/sklearn/manifold/t_sne.pyc\u001b[0m in \u001b[0;36mfit_transform\u001b[0;34m(self, X, y)\u001b[0m\n\u001b[1;32m    864\u001b[0m             \u001b[0mEmbedding\u001b[0m \u001b[0mof\u001b[0m \u001b[0mthe\u001b[0m \u001b[0mtraining\u001b[0m \u001b[0mdata\u001b[0m \u001b[0;32min\u001b[0m \u001b[0mlow\u001b[0m\u001b[0;34m-\u001b[0m\u001b[0mdimensional\u001b[0m \u001b[0mspace\u001b[0m\u001b[0;34m.\u001b[0m\u001b[0;34m\u001b[0m\u001b[0m\n\u001b[1;32m    865\u001b[0m         \"\"\"\n\u001b[0;32m--> 866\u001b[0;31m         \u001b[0membedding\u001b[0m \u001b[0;34m=\u001b[0m \u001b[0mself\u001b[0m\u001b[0;34m.\u001b[0m\u001b[0m_fit\u001b[0m\u001b[0;34m(\u001b[0m\u001b[0mX\u001b[0m\u001b[0;34m)\u001b[0m\u001b[0;34m\u001b[0m\u001b[0m\n\u001b[0m\u001b[1;32m    867\u001b[0m         \u001b[0mself\u001b[0m\u001b[0;34m.\u001b[0m\u001b[0membedding_\u001b[0m \u001b[0;34m=\u001b[0m \u001b[0membedding\u001b[0m\u001b[0;34m\u001b[0m\u001b[0m\n\u001b[1;32m    868\u001b[0m         \u001b[0;32mreturn\u001b[0m \u001b[0mself\u001b[0m\u001b[0;34m.\u001b[0m\u001b[0membedding_\u001b[0m\u001b[0;34m\u001b[0m\u001b[0m\n",
      "\u001b[0;32m/Users/satsaxen/anaconda/lib/python2.7/site-packages/sklearn/manifold/t_sne.pyc\u001b[0m in \u001b[0;36m_fit\u001b[0;34m(self, X, skip_num_points)\u001b[0m\n\u001b[1;32m    775\u001b[0m                           \u001b[0mX_embedded\u001b[0m\u001b[0;34m=\u001b[0m\u001b[0mX_embedded\u001b[0m\u001b[0;34m,\u001b[0m\u001b[0;34m\u001b[0m\u001b[0m\n\u001b[1;32m    776\u001b[0m                           \u001b[0mneighbors\u001b[0m\u001b[0;34m=\u001b[0m\u001b[0mneighbors_nn\u001b[0m\u001b[0;34m,\u001b[0m\u001b[0;34m\u001b[0m\u001b[0m\n\u001b[0;32m--> 777\u001b[0;31m                           skip_num_points=skip_num_points)\n\u001b[0m\u001b[1;32m    778\u001b[0m \u001b[0;34m\u001b[0m\u001b[0m\n\u001b[1;32m    779\u001b[0m     def _tsne(self, P, degrees_of_freedom, n_samples, random_state,\n",
      "\u001b[0;32m/Users/satsaxen/anaconda/lib/python2.7/site-packages/sklearn/manifold/t_sne.pyc\u001b[0m in \u001b[0;36m_tsne\u001b[0;34m(self, P, degrees_of_freedom, n_samples, random_state, X_embedded, neighbors, skip_num_points)\u001b[0m\n\u001b[1;32m    830\u001b[0m         \u001b[0mopt_args\u001b[0m\u001b[0;34m[\u001b[0m\u001b[0;34m'momentum'\u001b[0m\u001b[0;34m]\u001b[0m \u001b[0;34m=\u001b[0m \u001b[0;36m0.8\u001b[0m\u001b[0;34m\u001b[0m\u001b[0m\n\u001b[1;32m    831\u001b[0m         \u001b[0mopt_args\u001b[0m\u001b[0;34m[\u001b[0m\u001b[0;34m'it'\u001b[0m\u001b[0;34m]\u001b[0m \u001b[0;34m=\u001b[0m \u001b[0mit\u001b[0m \u001b[0;34m+\u001b[0m \u001b[0;36m1\u001b[0m\u001b[0;34m\u001b[0m\u001b[0m\n\u001b[0;32m--> 832\u001b[0;31m         \u001b[0mparams\u001b[0m\u001b[0;34m,\u001b[0m \u001b[0merror\u001b[0m\u001b[0;34m,\u001b[0m \u001b[0mit\u001b[0m \u001b[0;34m=\u001b[0m \u001b[0m_gradient_descent\u001b[0m\u001b[0;34m(\u001b[0m\u001b[0mobj_func\u001b[0m\u001b[0;34m,\u001b[0m \u001b[0mparams\u001b[0m\u001b[0;34m,\u001b[0m \u001b[0;34m**\u001b[0m\u001b[0mopt_args\u001b[0m\u001b[0;34m)\u001b[0m\u001b[0;34m\u001b[0m\u001b[0m\n\u001b[0m\u001b[1;32m    833\u001b[0m         \u001b[0;32mif\u001b[0m \u001b[0mself\u001b[0m\u001b[0;34m.\u001b[0m\u001b[0mverbose\u001b[0m\u001b[0;34m:\u001b[0m\u001b[0;34m\u001b[0m\u001b[0m\n\u001b[1;32m    834\u001b[0m             print(\"[t-SNE] Error after %d iterations with early \"\n",
      "\u001b[0;32m/Users/satsaxen/anaconda/lib/python2.7/site-packages/sklearn/manifold/t_sne.pyc\u001b[0m in \u001b[0;36m_gradient_descent\u001b[0;34m(objective, p0, it, n_iter, objective_error, n_iter_check, n_iter_without_progress, momentum, learning_rate, min_gain, min_grad_norm, min_error_diff, verbose, args, kwargs)\u001b[0m\n\u001b[1;32m    385\u001b[0m     \u001b[0;32mfor\u001b[0m \u001b[0mi\u001b[0m \u001b[0;32min\u001b[0m \u001b[0mrange\u001b[0m\u001b[0;34m(\u001b[0m\u001b[0mit\u001b[0m\u001b[0;34m,\u001b[0m \u001b[0mn_iter\u001b[0m\u001b[0;34m)\u001b[0m\u001b[0;34m:\u001b[0m\u001b[0;34m\u001b[0m\u001b[0m\n\u001b[1;32m    386\u001b[0m         \u001b[0mnew_error\u001b[0m\u001b[0;34m,\u001b[0m \u001b[0mgrad\u001b[0m \u001b[0;34m=\u001b[0m \u001b[0mobjective\u001b[0m\u001b[0;34m(\u001b[0m\u001b[0mp\u001b[0m\u001b[0;34m,\u001b[0m \u001b[0;34m*\u001b[0m\u001b[0margs\u001b[0m\u001b[0;34m,\u001b[0m \u001b[0;34m**\u001b[0m\u001b[0mkwargs\u001b[0m\u001b[0;34m)\u001b[0m\u001b[0;34m\u001b[0m\u001b[0m\n\u001b[0;32m--> 387\u001b[0;31m         \u001b[0mgrad_norm\u001b[0m \u001b[0;34m=\u001b[0m \u001b[0mlinalg\u001b[0m\u001b[0;34m.\u001b[0m\u001b[0mnorm\u001b[0m\u001b[0;34m(\u001b[0m\u001b[0mgrad\u001b[0m\u001b[0;34m)\u001b[0m\u001b[0;34m\u001b[0m\u001b[0m\n\u001b[0m\u001b[1;32m    388\u001b[0m \u001b[0;34m\u001b[0m\u001b[0m\n\u001b[1;32m    389\u001b[0m         \u001b[0minc\u001b[0m \u001b[0;34m=\u001b[0m \u001b[0mupdate\u001b[0m \u001b[0;34m*\u001b[0m \u001b[0mgrad\u001b[0m \u001b[0;34m>=\u001b[0m \u001b[0;36m0.0\u001b[0m\u001b[0;34m\u001b[0m\u001b[0m\n",
      "\u001b[0;32m/Users/satsaxen/anaconda/lib/python2.7/site-packages/scipy/linalg/misc.pyc\u001b[0m in \u001b[0;36mnorm\u001b[0;34m(a, ord)\u001b[0m\n\u001b[1;32m    113\u001b[0m     \"\"\"\n\u001b[1;32m    114\u001b[0m     \u001b[0;31m# Differs from numpy only in non-finite handling and the use of blas.\u001b[0m\u001b[0;34m\u001b[0m\u001b[0;34m\u001b[0m\u001b[0m\n\u001b[0;32m--> 115\u001b[0;31m     \u001b[0ma\u001b[0m \u001b[0;34m=\u001b[0m \u001b[0mnp\u001b[0m\u001b[0;34m.\u001b[0m\u001b[0masarray_chkfinite\u001b[0m\u001b[0;34m(\u001b[0m\u001b[0ma\u001b[0m\u001b[0;34m)\u001b[0m\u001b[0;34m\u001b[0m\u001b[0m\n\u001b[0m\u001b[1;32m    116\u001b[0m     \u001b[0;32mif\u001b[0m \u001b[0ma\u001b[0m\u001b[0;34m.\u001b[0m\u001b[0mdtype\u001b[0m\u001b[0;34m.\u001b[0m\u001b[0mchar\u001b[0m \u001b[0;32min\u001b[0m \u001b[0;34m'fdFD'\u001b[0m\u001b[0;34m:\u001b[0m\u001b[0;34m\u001b[0m\u001b[0m\n\u001b[1;32m    117\u001b[0m         \u001b[0;32mif\u001b[0m \u001b[0mord\u001b[0m \u001b[0;32min\u001b[0m \u001b[0;34m(\u001b[0m\u001b[0mNone\u001b[0m\u001b[0;34m,\u001b[0m \u001b[0;36m2\u001b[0m\u001b[0;34m)\u001b[0m \u001b[0;32mand\u001b[0m \u001b[0;34m(\u001b[0m\u001b[0ma\u001b[0m\u001b[0;34m.\u001b[0m\u001b[0mndim\u001b[0m \u001b[0;34m==\u001b[0m \u001b[0;36m1\u001b[0m\u001b[0;34m)\u001b[0m\u001b[0;34m:\u001b[0m\u001b[0;34m\u001b[0m\u001b[0m\n",
      "\u001b[0;32m/Users/satsaxen/anaconda/lib/python2.7/site-packages/numpy/lib/function_base.pyc\u001b[0m in \u001b[0;36masarray_chkfinite\u001b[0;34m(a, dtype, order)\u001b[0m\n\u001b[1;32m   1031\u001b[0m     \u001b[0;32mif\u001b[0m \u001b[0ma\u001b[0m\u001b[0;34m.\u001b[0m\u001b[0mdtype\u001b[0m\u001b[0;34m.\u001b[0m\u001b[0mchar\u001b[0m \u001b[0;32min\u001b[0m \u001b[0mtypecodes\u001b[0m\u001b[0;34m[\u001b[0m\u001b[0;34m'AllFloat'\u001b[0m\u001b[0;34m]\u001b[0m \u001b[0;32mand\u001b[0m \u001b[0;32mnot\u001b[0m \u001b[0mnp\u001b[0m\u001b[0;34m.\u001b[0m\u001b[0misfinite\u001b[0m\u001b[0;34m(\u001b[0m\u001b[0ma\u001b[0m\u001b[0;34m)\u001b[0m\u001b[0;34m.\u001b[0m\u001b[0mall\u001b[0m\u001b[0;34m(\u001b[0m\u001b[0;34m)\u001b[0m\u001b[0;34m:\u001b[0m\u001b[0;34m\u001b[0m\u001b[0m\n\u001b[1;32m   1032\u001b[0m         raise ValueError(\n\u001b[0;32m-> 1033\u001b[0;31m             \"array must not contain infs or NaNs\")\n\u001b[0m\u001b[1;32m   1034\u001b[0m     \u001b[0;32mreturn\u001b[0m \u001b[0ma\u001b[0m\u001b[0;34m\u001b[0m\u001b[0m\n\u001b[1;32m   1035\u001b[0m \u001b[0;34m\u001b[0m\u001b[0m\n",
      "\u001b[0;31mValueError\u001b[0m: array must not contain infs or NaNs"
     ]
    }
   ],
   "source": [
    "num_points = 400\n",
    "\n",
    "tsne = TSNE(perplexity=30, n_components=2, init='pca', n_iter=5000)\n",
    "two_d_embeddings = tsne.fit_transform(final_embeddings[1:num_points+1, :])"
   ]
  },
  {
   "cell_type": "code",
   "execution_count": null,
   "metadata": {
    "cellView": "both",
    "colab": {
     "autoexec": {
      "startup": false,
      "wait_interval": 0
     },
     "output_extras": [
      {
       "item_id": 1
      }
     ]
    },
    "colab_type": "code",
    "collapsed": false,
    "executionInfo": {
     "elapsed": 4763,
     "status": "ok",
     "timestamp": 1445965465525,
     "user": {
      "color": "#1FA15D",
      "displayName": "Vincent Vanhoucke",
      "isAnonymous": false,
      "isMe": true,
      "permissionId": "05076109866853157986",
      "photoUrl": "//lh6.googleusercontent.com/-cCJa7dTDcgQ/AAAAAAAAAAI/AAAAAAAACgw/r2EZ_8oYer4/s50-c-k-no/photo.jpg",
      "sessionId": "2f1ffade4c9f20de",
      "userId": "102167687554210253930"
     },
     "user_tz": 420
    },
    "id": "o_e0D_UezcDe",
    "outputId": "df22e4a5-e8ec-4e5e-d384-c6cf37c68c34"
   },
   "outputs": [],
   "source": [
    "def plot(embeddings, labels):\n",
    "  assert embeddings.shape[0] >= len(labels), 'More labels than embeddings'\n",
    "  pylab.figure(figsize=(15,15))  # in inches\n",
    "  for i, label in enumerate(labels):\n",
    "    x, y = embeddings[i,:]\n",
    "    pylab.scatter(x, y)\n",
    "    pylab.annotate(label, xy=(x, y), xytext=(5, 2), textcoords='offset points',\n",
    "                   ha='right', va='bottom')\n",
    "  pylab.show()\n",
    "\n",
    "words = [reverse_dictionary[i] for i in range(1, num_points+1)]\n",
    "plot(two_d_embeddings, words)"
   ]
  },
  {
   "cell_type": "markdown",
   "metadata": {
    "colab_type": "text",
    "id": "QB5EFrBnpNnc"
   },
   "source": [
    "---\n",
    "\n",
    "Problem\n",
    "-------\n",
    "\n",
    "An alternative to skip-gram is another Word2Vec model called [CBOW](http://arxiv.org/abs/1301.3781) (Continuous Bag of Words). In the CBOW model, instead of predicting a context word from a word vector, you predict a word from the sum of all the word vectors in its context. Implement and evaluate a CBOW model trained on the text8 dataset.\n",
    "\n",
    "---"
   ]
  }
 ],
 "metadata": {
  "colab": {
   "default_view": {},
   "name": "5_word2vec.ipynb",
   "provenance": [],
   "version": "0.3.2",
   "views": {}
  },
  "kernelspec": {
   "display_name": "Python 2",
   "language": "python",
   "name": "python2"
  },
  "language_info": {
   "codemirror_mode": {
    "name": "ipython",
    "version": 2
   },
   "file_extension": ".py",
   "mimetype": "text/x-python",
   "name": "python",
   "nbconvert_exporter": "python",
   "pygments_lexer": "ipython2",
   "version": "2.7.12"
  }
 },
 "nbformat": 4,
 "nbformat_minor": 0
}
